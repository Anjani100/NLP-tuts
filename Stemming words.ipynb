{
 "cells": [
  {
   "cell_type": "code",
   "execution_count": 2,
   "metadata": {},
   "outputs": [
    {
     "name": "stdout",
     "output_type": "stream",
     "text": [
      "the\n",
      "shop\n",
      "which\n",
      "close\n",
      "at\n",
      "10\n",
      "is\n",
      "closer\n",
      "to\n",
      "my\n",
      "hous\n",
      "than\n",
      "the\n",
      "one\n",
      "which\n",
      "ha\n",
      "close\n",
      "at\n",
      "9\n",
      "and\n",
      "the\n",
      "one\n",
      "that\n",
      "is\n",
      "close\n",
      "right\n",
      "now\n",
      "while\n",
      "we\n",
      "are\n",
      "close\n",
      "watch\n",
      "it\n",
      ".\n"
     ]
    }
   ],
   "source": [
    "from nltk.stem import PorterStemmer\n",
    "from nltk.tokenize import word_tokenize\n",
    "\n",
    "ps = PorterStemmer()\n",
    "\n",
    "# words = [\"close\", \"closer\", \"closely\", \"closed\", \"closing\"]\n",
    "\n",
    "example_sentence = \"The shop which closes at 10 is closer to my house than the one which has closed at 9 and the one that is closing right now while we are closely watching it.\"\n",
    "words = word_tokenize(example_sentence)\n",
    "\n",
    "for w in words:\n",
    "    print(ps.stem(w))"
   ]
  },
  {
   "cell_type": "code",
   "execution_count": null,
   "metadata": {},
   "outputs": [],
   "source": []
  }
 ],
 "metadata": {
  "kernelspec": {
   "display_name": "Python 3",
   "language": "python",
   "name": "python3"
  },
  "language_info": {
   "codemirror_mode": {
    "name": "ipython",
    "version": 3
   },
   "file_extension": ".py",
   "mimetype": "text/x-python",
   "name": "python",
   "nbconvert_exporter": "python",
   "pygments_lexer": "ipython3",
   "version": "3.6.8"
  }
 },
 "nbformat": 4,
 "nbformat_minor": 2
}
