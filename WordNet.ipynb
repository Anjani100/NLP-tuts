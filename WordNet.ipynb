{
 "cells": [
  {
   "cell_type": "code",
   "execution_count": 28,
   "metadata": {},
   "outputs": [
    {
     "name": "stdout",
     "output_type": "stream",
     "text": [
      "Synonyms: {'respectable', 'practiced', 'expert', 'honorable', 'upright', 'in_force', 'dependable', 'adept', 'serious', 'goodness', 'secure', 'unspoiled', 'right', 'full', 'sound', 'honest', 'unspoilt', 'skilful', 'proficient', 'commodity', 'just', 'soundly', 'ripe', 'safe', 'beneficial', 'undecomposed', 'salutary', 'near', 'good', 'well', 'in_effect', 'dear', 'trade_good', 'effective', 'estimable', 'skillful', 'thoroughly'}\n",
      "\n",
      "Antonyms {'badness', 'bad', 'evil', 'ill', 'evilness'}\n"
     ]
    }
   ],
   "source": [
    "from nltk.corpus import wordnet\n",
    "\n",
    "syns = wordnet.synsets(\"programs\")\n",
    "\n",
    "# print(syns)\n",
    "# print(syns[0].name())\n",
    "# print(syns[0].lemmas())\n",
    "# print(syns[0].lemmas()[0].name())\n",
    "\n",
    "# print(syns[0].definition())    # Describes the meaning of 'plan'\n",
    "# print(syns[0].examples())      # Shows some example sentences for plan\n",
    "\n",
    "synonyms = []\n",
    "antonyms = []\n",
    "\n",
    "for syn in wordnet.synsets(\"good\"):\n",
    "    for l in syn.lemmas():\n",
    "        synonyms.append(l.name())\n",
    "        if l.antonyms():\n",
    "            antonyms.append(l.antonyms()[0].name())\n",
    "\n",
    "print('Synonyms:', set(synonyms))\n",
    "print()\n",
    "print('Antonyms', set(antonyms))"
   ]
  },
  {
   "cell_type": "code",
   "execution_count": 29,
   "metadata": {},
   "outputs": [
    {
     "name": "stdout",
     "output_type": "stream",
     "text": [
      "0.9090909090909091\n",
      "0.6956521739130435\n",
      "0.32\n"
     ]
    }
   ],
   "source": [
    "# Wu and Palmer Method\n",
    "\n",
    "w1 = wordnet.synset(\"boat.n.01\")\n",
    "w2 = wordnet.synset(\"ship.n.01\")\n",
    "\n",
    "print(w1.wup_similarity(w2))\n",
    "\n",
    "w3 = wordnet.synset(\"boat.n.01\")\n",
    "w4 = wordnet.synset(\"car.n.01\")\n",
    "\n",
    "print(w3.wup_similarity(w4))\n",
    "\n",
    "w5 = wordnet.synset(\"boat.n.01\")\n",
    "w6 = wordnet.synset(\"cat.n.01\")\n",
    "\n",
    "print(w5.wup_similarity(w6))"
   ]
  },
  {
   "cell_type": "code",
   "execution_count": null,
   "metadata": {},
   "outputs": [],
   "source": []
  }
 ],
 "metadata": {
  "kernelspec": {
   "display_name": "Python 3",
   "language": "python",
   "name": "python3"
  },
  "language_info": {
   "codemirror_mode": {
    "name": "ipython",
    "version": 3
   },
   "file_extension": ".py",
   "mimetype": "text/x-python",
   "name": "python",
   "nbconvert_exporter": "python",
   "pygments_lexer": "ipython3",
   "version": "3.6.8"
  }
 },
 "nbformat": 4,
 "nbformat_minor": 2
}
