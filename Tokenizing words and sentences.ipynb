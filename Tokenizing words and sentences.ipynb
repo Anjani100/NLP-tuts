{
 "cells": [
  {
   "cell_type": "code",
   "execution_count": 4,
   "metadata": {},
   "outputs": [
    {
     "name": "stdout",
     "output_type": "stream",
     "text": [
      "I\n",
      "'ve\n",
      "hidden\n",
      "Mr.\n",
      "Aryan\n",
      "'s\n",
      "copy\n",
      ".\n",
      "He\n",
      "ca\n",
      "n't\n",
      "find\n",
      "it\n",
      ".\n",
      "It\n",
      "'s\n",
      "making\n",
      "him\n",
      "throw\n",
      "tantrums\n",
      "and\n",
      "it\n",
      "is\n",
      "very\n",
      "funny\n",
      "to\n",
      "watch\n",
      ".\n",
      "Now\n",
      "he\n",
      "'s\n",
      "reading\n",
      "this\n",
      "and\n",
      "he\n",
      "still\n",
      "ca\n",
      "n't\n",
      "figure\n",
      "out\n",
      "where\n",
      "his\n",
      "copy\n",
      "is\n",
      ".\n",
      "It\n",
      "'s\n",
      "getting\n",
      "hilarious\n",
      "by\n",
      "the\n",
      "moment\n",
      ".\n"
     ]
    }
   ],
   "source": [
    "import nltk\n",
    "from nltk.tokenize import sent_tokenize, word_tokenize\n",
    "\n",
    "example_text = \"I've hidden Mr. Aryan's copy. He can't find it. It's making him throw tantrums and it is very funny to watch. Now he's reading this and he still can't figure out where his copy is. It's getting hilarious by the moment.\"\n",
    "\n",
    "# print(word_tokenize(example_text))\n",
    "# print(sent_tokenize(example_text))\n",
    "\n",
    "for i in word_tokenize(example_text):\n",
    "    print(i)"
   ]
  },
  {
   "cell_type": "code",
   "execution_count": null,
   "metadata": {},
   "outputs": [],
   "source": []
  }
 ],
 "metadata": {
  "kernelspec": {
   "display_name": "Python 3",
   "language": "python",
   "name": "python3"
  },
  "language_info": {
   "codemirror_mode": {
    "name": "ipython",
    "version": 3
   },
   "file_extension": ".py",
   "mimetype": "text/x-python",
   "name": "python",
   "nbconvert_exporter": "python",
   "pygments_lexer": "ipython3",
   "version": "3.6.8"
  }
 },
 "nbformat": 4,
 "nbformat_minor": 2
}
