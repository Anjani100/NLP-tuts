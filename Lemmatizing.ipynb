{
 "cells": [
  {
   "cell_type": "code",
   "execution_count": 12,
   "metadata": {
    "scrolled": true
   },
   "outputs": [
    {
     "name": "stdout",
     "output_type": "stream",
     "text": [
      "pythoner\n",
      "cactus\n",
      "close\n",
      "goose\n",
      "pythonly\n",
      "cat\n",
      "\n",
      "good\n"
     ]
    }
   ],
   "source": [
    "from nltk.stem import WordNetLemmatizer\n",
    "\n",
    "lemmatizer = WordNetLemmatizer()\n",
    "\n",
    "words = [\"pythoner\", \"cacti\", \"closes\", \"geese\", \"pythonly\", \"cats\"]\n",
    "\n",
    "for w in words:\n",
    "    print(lemmatizer.lemmatize(w))\n",
    "\n",
    "print('')\n",
    "print(lemmatizer.lemmatize(\"better\", pos = 'a'))    ## a -> Adjective; Default is noun"
   ]
  },
  {
   "cell_type": "code",
   "execution_count": null,
   "metadata": {},
   "outputs": [],
   "source": []
  }
 ],
 "metadata": {
  "kernelspec": {
   "display_name": "Python 3",
   "language": "python",
   "name": "python3"
  },
  "language_info": {
   "codemirror_mode": {
    "name": "ipython",
    "version": 3
   },
   "file_extension": ".py",
   "mimetype": "text/x-python",
   "name": "python",
   "nbconvert_exporter": "python",
   "pygments_lexer": "ipython3",
   "version": "3.6.8"
  }
 },
 "nbformat": 4,
 "nbformat_minor": 2
}
